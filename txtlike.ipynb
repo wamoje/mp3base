{
 "cells": [
  {
   "cell_type": "code",
   "execution_count": 1,
   "id": "8b82b481",
   "metadata": {},
   "outputs": [],
   "source": [
    "import os\n",
    "import sys\n",
    "import logging\n",
    "import sqlite3\n",
    "\n",
    "from sqlite3 import Error"
   ]
  },
  {
   "cell_type": "code",
   "execution_count": 2,
   "id": "41dce7e4",
   "metadata": {},
   "outputs": [],
   "source": [
    "con = sqlite3.connect('/home/wamoje/work/MP3Base/mp3.db')"
   ]
  },
  {
   "cell_type": "code",
   "execution_count": 3,
   "id": "257b967d",
   "metadata": {},
   "outputs": [
    {
     "name": "stdout",
     "output_type": "stream",
     "text": [
      "Number of artists: 22976, albums: 30804, tracks: 226295\n"
     ]
    }
   ],
   "source": [
    "c = con.cursor()\n",
    "artists = c.execute(\"SELECT COUNT(1) FROM artists ;\").fetchone()[0]\n",
    "albums = c.execute(\"SELECT COUNT(1) FROM albums ;\").fetchone()[0]\n",
    "tracks = c.execute(\"SELECT COUNT(1) FROM tracks ;\").fetchone()[0]\n",
    "print(\"Number of artists: {}, albums: {}, tracks: {}\".format(artists, albums, tracks))"
   ]
  },
  {
   "cell_type": "code",
   "execution_count": 4,
   "id": "179c5a1a",
   "metadata": {},
   "outputs": [],
   "source": [
    "c.execute(\"SELECT * FROM artists\")\n",
    "artists = c.fetchall()"
   ]
  },
  {
   "cell_type": "code",
   "execution_count": 5,
   "id": "9ee70f72",
   "metadata": {},
   "outputs": [
    {
     "data": {
      "text/plain": [
       "list"
      ]
     },
     "execution_count": 5,
     "metadata": {},
     "output_type": "execute_result"
    }
   ],
   "source": [
    "type(artists)"
   ]
  },
  {
   "cell_type": "code",
   "execution_count": 6,
   "id": "07c88522",
   "metadata": {},
   "outputs": [
    {
     "name": "stdout",
     "output_type": "stream",
     "text": [
      "(1, 'Paul Anka')\n",
      "(34, 'Pussycat')\n",
      "(111, 'Nathaniel Rateliff And The Night Sweats')\n",
      "(2221, 'Red Snapper')\n"
     ]
    }
   ],
   "source": [
    "print(artists[0])\n",
    "print(artists[33])\n",
    "print(artists[110])\n",
    "print(artists[2220])"
   ]
  },
  {
   "cell_type": "code",
   "execution_count": 7,
   "id": "a1a31ee7",
   "metadata": {},
   "outputs": [
    {
     "data": {
      "text/plain": [
       "22976"
      ]
     },
     "execution_count": 7,
     "metadata": {},
     "output_type": "execute_result"
    }
   ],
   "source": [
    "len(artists)"
   ]
  },
  {
   "cell_type": "code",
   "execution_count": 13,
   "id": "dfabcc28",
   "metadata": {},
   "outputs": [
    {
     "data": {
      "text/plain": [
       "['Rolling Stones',\n",
       " 'Rolling Clones',\n",
       " 'Arlington',\n",
       " 'Colin Blunstone',\n",
       " 'The Rolling Stones',\n",
       " 'Brownstone',\n",
       " 'Blindstone',\n",
       " 'Caroline Jones',\n",
       " 'Allen Stone']"
      ]
     },
     "execution_count": 13,
     "metadata": {},
     "output_type": "execute_result"
    }
   ],
   "source": [
    "import difflib\n",
    "difflib.get_close_matches(\"rolling stone\", [art[1] for art in artists], n=9, cutoff=0.6)"
   ]
  },
  {
   "cell_type": "code",
   "execution_count": null,
   "id": "4332183a",
   "metadata": {},
   "outputs": [],
   "source": []
  },
  {
   "cell_type": "code",
   "execution_count": null,
   "id": "da676b1f",
   "metadata": {},
   "outputs": [],
   "source": []
  },
  {
   "cell_type": "code",
   "execution_count": null,
   "id": "a4255b89",
   "metadata": {},
   "outputs": [],
   "source": []
  },
  {
   "cell_type": "code",
   "execution_count": null,
   "id": "c75492c1",
   "metadata": {},
   "outputs": [],
   "source": []
  },
  {
   "cell_type": "code",
   "execution_count": null,
   "id": "5d7ba6d6",
   "metadata": {},
   "outputs": [],
   "source": []
  }
 ],
 "metadata": {
  "kernelspec": {
   "display_name": "Python 3 (ipykernel)",
   "language": "python",
   "name": "python3"
  },
  "language_info": {
   "codemirror_mode": {
    "name": "ipython",
    "version": 3
   },
   "file_extension": ".py",
   "mimetype": "text/x-python",
   "name": "python",
   "nbconvert_exporter": "python",
   "pygments_lexer": "ipython3",
   "version": "3.10.6"
  }
 },
 "nbformat": 4,
 "nbformat_minor": 5
}
